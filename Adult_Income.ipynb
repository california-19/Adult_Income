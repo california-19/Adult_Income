{
  "nbformat": 4,
  "nbformat_minor": 0,
  "metadata": {
    "colab": {
      "name": "Adult Income EDA",
      "provenance": [],
      "collapsed_sections": [
        "ocjcL49TTOxV",
        "S92tih_cETot",
        "svPmDPO9VHvF",
        "5wf2dP8-SBU2",
        "MQ20CnzjFXdF"
      ]
    },
    "kernelspec": {
      "name": "python3",
      "display_name": "Python 3"
    }
  },
  "cells": [
    {
      "cell_type": "markdown",
      "metadata": {
        "id": "6DaiuHRvG4SL"
      },
      "source": [
        "#Capstone 2: EDA"
      ]
    },
    {
      "cell_type": "code",
      "metadata": {
        "id": "sWaK0o4McVj3"
      },
      "source": [
        "import pandas as pd\n",
        "import matplotlib.pyplot as plt\n",
        "import seaborn as sns"
      ],
      "execution_count": null,
      "outputs": []
    },
    {
      "cell_type": "code",
      "metadata": {
        "id": "W0nCyMHTcXJx",
        "colab": {
          "base_uri": "https://localhost:8080/"
        },
        "outputId": "ca4446ff-e07c-4499-a7e0-769641025cb8"
      },
      "source": [
        "from google.colab import drive\n",
        "drive.mount('/content/drive')"
      ],
      "execution_count": null,
      "outputs": [
        {
          "output_type": "stream",
          "text": [
            "Mounted at /content/drive\n"
          ],
          "name": "stdout"
        }
      ]
    },
    {
      "cell_type": "code",
      "metadata": {
        "id": "TymoEhimcg31"
      },
      "source": [
        "path = \"/content/drive/My Drive/Springboard/Data_Files/adult.csv\"\n",
        "df = pd.read_csv(path)"
      ],
      "execution_count": null,
      "outputs": []
    },
    {
      "cell_type": "markdown",
      "metadata": {
        "id": "Dr7sCmTXeYeW"
      },
      "source": [
        "#Exploring the data"
      ]
    },
    {
      "cell_type": "markdown",
      "metadata": {
        "id": "QpU5ZNraRKb3"
      },
      "source": [
        "Let's have a look at the data first."
      ]
    },
    {
      "cell_type": "code",
      "metadata": {
        "id": "qSur2DIOc2li",
        "colab": {
          "base_uri": "https://localhost:8080/",
          "height": 206
        },
        "outputId": "b19cc8a2-6ab6-4d3d-f10d-24fe245dd265"
      },
      "source": [
        "df.head()"
      ],
      "execution_count": null,
      "outputs": [
        {
          "output_type": "execute_result",
          "data": {
            "text/html": [
              "<div>\n",
              "<style scoped>\n",
              "    .dataframe tbody tr th:only-of-type {\n",
              "        vertical-align: middle;\n",
              "    }\n",
              "\n",
              "    .dataframe tbody tr th {\n",
              "        vertical-align: top;\n",
              "    }\n",
              "\n",
              "    .dataframe thead th {\n",
              "        text-align: right;\n",
              "    }\n",
              "</style>\n",
              "<table border=\"1\" class=\"dataframe\">\n",
              "  <thead>\n",
              "    <tr style=\"text-align: right;\">\n",
              "      <th></th>\n",
              "      <th>age</th>\n",
              "      <th>workclass</th>\n",
              "      <th>fnlwgt</th>\n",
              "      <th>education</th>\n",
              "      <th>education.num</th>\n",
              "      <th>marital.status</th>\n",
              "      <th>occupation</th>\n",
              "      <th>relationship</th>\n",
              "      <th>race</th>\n",
              "      <th>sex</th>\n",
              "      <th>capital.gain</th>\n",
              "      <th>capital.loss</th>\n",
              "      <th>hours.per.week</th>\n",
              "      <th>native.country</th>\n",
              "      <th>income</th>\n",
              "    </tr>\n",
              "  </thead>\n",
              "  <tbody>\n",
              "    <tr>\n",
              "      <th>0</th>\n",
              "      <td>90</td>\n",
              "      <td>?</td>\n",
              "      <td>77053</td>\n",
              "      <td>HS-grad</td>\n",
              "      <td>9</td>\n",
              "      <td>Widowed</td>\n",
              "      <td>?</td>\n",
              "      <td>Not-in-family</td>\n",
              "      <td>White</td>\n",
              "      <td>Female</td>\n",
              "      <td>0</td>\n",
              "      <td>4356</td>\n",
              "      <td>40</td>\n",
              "      <td>United-States</td>\n",
              "      <td>&lt;=50K</td>\n",
              "    </tr>\n",
              "    <tr>\n",
              "      <th>1</th>\n",
              "      <td>82</td>\n",
              "      <td>Private</td>\n",
              "      <td>132870</td>\n",
              "      <td>HS-grad</td>\n",
              "      <td>9</td>\n",
              "      <td>Widowed</td>\n",
              "      <td>Exec-managerial</td>\n",
              "      <td>Not-in-family</td>\n",
              "      <td>White</td>\n",
              "      <td>Female</td>\n",
              "      <td>0</td>\n",
              "      <td>4356</td>\n",
              "      <td>18</td>\n",
              "      <td>United-States</td>\n",
              "      <td>&lt;=50K</td>\n",
              "    </tr>\n",
              "    <tr>\n",
              "      <th>2</th>\n",
              "      <td>66</td>\n",
              "      <td>?</td>\n",
              "      <td>186061</td>\n",
              "      <td>Some-college</td>\n",
              "      <td>10</td>\n",
              "      <td>Widowed</td>\n",
              "      <td>?</td>\n",
              "      <td>Unmarried</td>\n",
              "      <td>Black</td>\n",
              "      <td>Female</td>\n",
              "      <td>0</td>\n",
              "      <td>4356</td>\n",
              "      <td>40</td>\n",
              "      <td>United-States</td>\n",
              "      <td>&lt;=50K</td>\n",
              "    </tr>\n",
              "    <tr>\n",
              "      <th>3</th>\n",
              "      <td>54</td>\n",
              "      <td>Private</td>\n",
              "      <td>140359</td>\n",
              "      <td>7th-8th</td>\n",
              "      <td>4</td>\n",
              "      <td>Divorced</td>\n",
              "      <td>Machine-op-inspct</td>\n",
              "      <td>Unmarried</td>\n",
              "      <td>White</td>\n",
              "      <td>Female</td>\n",
              "      <td>0</td>\n",
              "      <td>3900</td>\n",
              "      <td>40</td>\n",
              "      <td>United-States</td>\n",
              "      <td>&lt;=50K</td>\n",
              "    </tr>\n",
              "    <tr>\n",
              "      <th>4</th>\n",
              "      <td>41</td>\n",
              "      <td>Private</td>\n",
              "      <td>264663</td>\n",
              "      <td>Some-college</td>\n",
              "      <td>10</td>\n",
              "      <td>Separated</td>\n",
              "      <td>Prof-specialty</td>\n",
              "      <td>Own-child</td>\n",
              "      <td>White</td>\n",
              "      <td>Female</td>\n",
              "      <td>0</td>\n",
              "      <td>3900</td>\n",
              "      <td>40</td>\n",
              "      <td>United-States</td>\n",
              "      <td>&lt;=50K</td>\n",
              "    </tr>\n",
              "  </tbody>\n",
              "</table>\n",
              "</div>"
            ],
            "text/plain": [
              "   age workclass  fnlwgt  ... hours.per.week  native.country income\n",
              "0   90         ?   77053  ...             40   United-States  <=50K\n",
              "1   82   Private  132870  ...             18   United-States  <=50K\n",
              "2   66         ?  186061  ...             40   United-States  <=50K\n",
              "3   54   Private  140359  ...             40   United-States  <=50K\n",
              "4   41   Private  264663  ...             40   United-States  <=50K\n",
              "\n",
              "[5 rows x 15 columns]"
            ]
          },
          "metadata": {
            "tags": []
          },
          "execution_count": 4
        }
      ]
    },
    {
      "cell_type": "code",
      "metadata": {
        "id": "pvZ9--oKh1cr",
        "colab": {
          "base_uri": "https://localhost:8080/"
        },
        "outputId": "e7f9b1df-0d07-43f5-b2a5-816f8787e618"
      },
      "source": [
        "df.info()"
      ],
      "execution_count": null,
      "outputs": [
        {
          "output_type": "stream",
          "text": [
            "<class 'pandas.core.frame.DataFrame'>\n",
            "RangeIndex: 32561 entries, 0 to 32560\n",
            "Data columns (total 15 columns):\n",
            " #   Column          Non-Null Count  Dtype \n",
            "---  ------          --------------  ----- \n",
            " 0   age             32561 non-null  int64 \n",
            " 1   workclass       32561 non-null  object\n",
            " 2   fnlwgt          32561 non-null  int64 \n",
            " 3   education       32561 non-null  object\n",
            " 4   education.num   32561 non-null  int64 \n",
            " 5   marital.status  32561 non-null  object\n",
            " 6   occupation      32561 non-null  object\n",
            " 7   relationship    32561 non-null  object\n",
            " 8   race            32561 non-null  object\n",
            " 9   sex             32561 non-null  object\n",
            " 10  capital.gain    32561 non-null  int64 \n",
            " 11  capital.loss    32561 non-null  int64 \n",
            " 12  hours.per.week  32561 non-null  int64 \n",
            " 13  native.country  32561 non-null  object\n",
            " 14  income          32561 non-null  object\n",
            "dtypes: int64(6), object(9)\n",
            "memory usage: 3.7+ MB\n"
          ],
          "name": "stdout"
        }
      ]
    },
    {
      "cell_type": "code",
      "metadata": {
        "colab": {
          "base_uri": "https://localhost:8080/"
        },
        "id": "OXfjfu0KShUR",
        "outputId": "1b74eec3-9153-4f1d-8ab5-551cfe2c8eb8"
      },
      "source": [
        "df.isnull().sum()"
      ],
      "execution_count": null,
      "outputs": [
        {
          "output_type": "execute_result",
          "data": {
            "text/plain": [
              "age               0\n",
              "workclass         0\n",
              "fnlwgt            0\n",
              "education         0\n",
              "education.num     0\n",
              "marital.status    0\n",
              "occupation        0\n",
              "relationship      0\n",
              "race              0\n",
              "sex               0\n",
              "capital.gain      0\n",
              "capital.loss      0\n",
              "hours.per.week    0\n",
              "native.country    0\n",
              "income            0\n",
              "dtype: int64"
            ]
          },
          "metadata": {
            "tags": []
          },
          "execution_count": 6
        }
      ]
    },
    {
      "cell_type": "markdown",
      "metadata": {
        "id": "GnWE-3hWTJfO"
      },
      "source": [
        "Although it looks like there are no null values, actually there are. The symbol '?' is used to represent unknown values. Therefore, we need count them."
      ]
    },
    {
      "cell_type": "code",
      "metadata": {
        "colab": {
          "base_uri": "https://localhost:8080/"
        },
        "id": "LbeGAtVmTVYm",
        "outputId": "8c31b7f2-79fb-4cda-bc2b-f84bcde447ba"
      },
      "source": [
        "print(df['workclass'].str.count(\"\\?\").sum())\n",
        "print(df.shape)\n"
      ],
      "execution_count": null,
      "outputs": [
        {
          "output_type": "stream",
          "text": [
            "1836\n",
            "(32561, 15)\n"
          ],
          "name": "stdout"
        }
      ]
    },
    {
      "cell_type": "code",
      "metadata": {
        "id": "hGtWL0PuzHuY"
      },
      "source": [
        "# The columns capital.loss, capital.gain and fnlwgt are deemed unnecassary in training the model and removed from dataset.\n",
        "df.drop('capital.loss', axis='columns', inplace=True)\n",
        "df.drop('capital.gain', axis='columns', inplace=True)\n",
        "df.drop('fnlwgt', axis='columns', inplace=True)"
      ],
      "execution_count": null,
      "outputs": []
    },
    {
      "cell_type": "code",
      "metadata": {
        "id": "Z5jK0imGiLeR",
        "colab": {
          "base_uri": "https://localhost:8080/",
          "height": 206
        },
        "outputId": "04fc692b-d55d-4bdc-feb9-27e2059294a6"
      },
      "source": [
        "df.head()"
      ],
      "execution_count": null,
      "outputs": [
        {
          "output_type": "execute_result",
          "data": {
            "text/html": [
              "<div>\n",
              "<style scoped>\n",
              "    .dataframe tbody tr th:only-of-type {\n",
              "        vertical-align: middle;\n",
              "    }\n",
              "\n",
              "    .dataframe tbody tr th {\n",
              "        vertical-align: top;\n",
              "    }\n",
              "\n",
              "    .dataframe thead th {\n",
              "        text-align: right;\n",
              "    }\n",
              "</style>\n",
              "<table border=\"1\" class=\"dataframe\">\n",
              "  <thead>\n",
              "    <tr style=\"text-align: right;\">\n",
              "      <th></th>\n",
              "      <th>age</th>\n",
              "      <th>workclass</th>\n",
              "      <th>education</th>\n",
              "      <th>education.num</th>\n",
              "      <th>marital.status</th>\n",
              "      <th>occupation</th>\n",
              "      <th>relationship</th>\n",
              "      <th>race</th>\n",
              "      <th>sex</th>\n",
              "      <th>hours.per.week</th>\n",
              "      <th>native.country</th>\n",
              "      <th>income</th>\n",
              "    </tr>\n",
              "  </thead>\n",
              "  <tbody>\n",
              "    <tr>\n",
              "      <th>0</th>\n",
              "      <td>90</td>\n",
              "      <td>?</td>\n",
              "      <td>HS-grad</td>\n",
              "      <td>9</td>\n",
              "      <td>Widowed</td>\n",
              "      <td>?</td>\n",
              "      <td>Not-in-family</td>\n",
              "      <td>White</td>\n",
              "      <td>Female</td>\n",
              "      <td>40</td>\n",
              "      <td>United-States</td>\n",
              "      <td>&lt;=50K</td>\n",
              "    </tr>\n",
              "    <tr>\n",
              "      <th>1</th>\n",
              "      <td>82</td>\n",
              "      <td>Private</td>\n",
              "      <td>HS-grad</td>\n",
              "      <td>9</td>\n",
              "      <td>Widowed</td>\n",
              "      <td>Exec-managerial</td>\n",
              "      <td>Not-in-family</td>\n",
              "      <td>White</td>\n",
              "      <td>Female</td>\n",
              "      <td>18</td>\n",
              "      <td>United-States</td>\n",
              "      <td>&lt;=50K</td>\n",
              "    </tr>\n",
              "    <tr>\n",
              "      <th>2</th>\n",
              "      <td>66</td>\n",
              "      <td>?</td>\n",
              "      <td>Some-college</td>\n",
              "      <td>10</td>\n",
              "      <td>Widowed</td>\n",
              "      <td>?</td>\n",
              "      <td>Unmarried</td>\n",
              "      <td>Black</td>\n",
              "      <td>Female</td>\n",
              "      <td>40</td>\n",
              "      <td>United-States</td>\n",
              "      <td>&lt;=50K</td>\n",
              "    </tr>\n",
              "    <tr>\n",
              "      <th>3</th>\n",
              "      <td>54</td>\n",
              "      <td>Private</td>\n",
              "      <td>7th-8th</td>\n",
              "      <td>4</td>\n",
              "      <td>Divorced</td>\n",
              "      <td>Machine-op-inspct</td>\n",
              "      <td>Unmarried</td>\n",
              "      <td>White</td>\n",
              "      <td>Female</td>\n",
              "      <td>40</td>\n",
              "      <td>United-States</td>\n",
              "      <td>&lt;=50K</td>\n",
              "    </tr>\n",
              "    <tr>\n",
              "      <th>4</th>\n",
              "      <td>41</td>\n",
              "      <td>Private</td>\n",
              "      <td>Some-college</td>\n",
              "      <td>10</td>\n",
              "      <td>Separated</td>\n",
              "      <td>Prof-specialty</td>\n",
              "      <td>Own-child</td>\n",
              "      <td>White</td>\n",
              "      <td>Female</td>\n",
              "      <td>40</td>\n",
              "      <td>United-States</td>\n",
              "      <td>&lt;=50K</td>\n",
              "    </tr>\n",
              "  </tbody>\n",
              "</table>\n",
              "</div>"
            ],
            "text/plain": [
              "   age workclass     education  ...  hours.per.week native.country income\n",
              "0   90         ?       HS-grad  ...              40  United-States  <=50K\n",
              "1   82   Private       HS-grad  ...              18  United-States  <=50K\n",
              "2   66         ?  Some-college  ...              40  United-States  <=50K\n",
              "3   54   Private       7th-8th  ...              40  United-States  <=50K\n",
              "4   41   Private  Some-college  ...              40  United-States  <=50K\n",
              "\n",
              "[5 rows x 12 columns]"
            ]
          },
          "metadata": {
            "tags": []
          },
          "execution_count": 9
        }
      ]
    },
    {
      "cell_type": "code",
      "metadata": {
        "id": "polm0_7DiTOI",
        "colab": {
          "base_uri": "https://localhost:8080/",
          "height": 276
        },
        "outputId": "6869b4e7-be51-42e8-9c35-e9aef1ce6845"
      },
      "source": [
        "# Missing values in workclass, native.country and occupation are removed. Not many missing entries, so we didn't lose much\n",
        "z1 = df['workclass'] == '?'\n",
        "z2 = df['native.country'] == '?'\n",
        "z3 = df['occupation'] == '?'\n",
        "df.drop(df[z1].index, inplace=True)\n",
        "df.drop(df[z2].index, inplace=True)\n",
        "df.drop(df[z3].index, inplace=True)\n",
        "df.head()"
      ],
      "execution_count": null,
      "outputs": [
        {
          "output_type": "stream",
          "text": [
            "/usr/local/lib/python3.6/dist-packages/ipykernel_launcher.py:6: UserWarning: Boolean Series key will be reindexed to match DataFrame index.\n",
            "  \n",
            "/usr/local/lib/python3.6/dist-packages/ipykernel_launcher.py:7: UserWarning: Boolean Series key will be reindexed to match DataFrame index.\n",
            "  import sys\n"
          ],
          "name": "stderr"
        },
        {
          "output_type": "execute_result",
          "data": {
            "text/html": [
              "<div>\n",
              "<style scoped>\n",
              "    .dataframe tbody tr th:only-of-type {\n",
              "        vertical-align: middle;\n",
              "    }\n",
              "\n",
              "    .dataframe tbody tr th {\n",
              "        vertical-align: top;\n",
              "    }\n",
              "\n",
              "    .dataframe thead th {\n",
              "        text-align: right;\n",
              "    }\n",
              "</style>\n",
              "<table border=\"1\" class=\"dataframe\">\n",
              "  <thead>\n",
              "    <tr style=\"text-align: right;\">\n",
              "      <th></th>\n",
              "      <th>age</th>\n",
              "      <th>workclass</th>\n",
              "      <th>education</th>\n",
              "      <th>education.num</th>\n",
              "      <th>marital.status</th>\n",
              "      <th>occupation</th>\n",
              "      <th>relationship</th>\n",
              "      <th>race</th>\n",
              "      <th>sex</th>\n",
              "      <th>hours.per.week</th>\n",
              "      <th>native.country</th>\n",
              "      <th>income</th>\n",
              "    </tr>\n",
              "  </thead>\n",
              "  <tbody>\n",
              "    <tr>\n",
              "      <th>1</th>\n",
              "      <td>82</td>\n",
              "      <td>Private</td>\n",
              "      <td>HS-grad</td>\n",
              "      <td>9</td>\n",
              "      <td>Widowed</td>\n",
              "      <td>Exec-managerial</td>\n",
              "      <td>Not-in-family</td>\n",
              "      <td>White</td>\n",
              "      <td>Female</td>\n",
              "      <td>18</td>\n",
              "      <td>United-States</td>\n",
              "      <td>&lt;=50K</td>\n",
              "    </tr>\n",
              "    <tr>\n",
              "      <th>3</th>\n",
              "      <td>54</td>\n",
              "      <td>Private</td>\n",
              "      <td>7th-8th</td>\n",
              "      <td>4</td>\n",
              "      <td>Divorced</td>\n",
              "      <td>Machine-op-inspct</td>\n",
              "      <td>Unmarried</td>\n",
              "      <td>White</td>\n",
              "      <td>Female</td>\n",
              "      <td>40</td>\n",
              "      <td>United-States</td>\n",
              "      <td>&lt;=50K</td>\n",
              "    </tr>\n",
              "    <tr>\n",
              "      <th>4</th>\n",
              "      <td>41</td>\n",
              "      <td>Private</td>\n",
              "      <td>Some-college</td>\n",
              "      <td>10</td>\n",
              "      <td>Separated</td>\n",
              "      <td>Prof-specialty</td>\n",
              "      <td>Own-child</td>\n",
              "      <td>White</td>\n",
              "      <td>Female</td>\n",
              "      <td>40</td>\n",
              "      <td>United-States</td>\n",
              "      <td>&lt;=50K</td>\n",
              "    </tr>\n",
              "    <tr>\n",
              "      <th>5</th>\n",
              "      <td>34</td>\n",
              "      <td>Private</td>\n",
              "      <td>HS-grad</td>\n",
              "      <td>9</td>\n",
              "      <td>Divorced</td>\n",
              "      <td>Other-service</td>\n",
              "      <td>Unmarried</td>\n",
              "      <td>White</td>\n",
              "      <td>Female</td>\n",
              "      <td>45</td>\n",
              "      <td>United-States</td>\n",
              "      <td>&lt;=50K</td>\n",
              "    </tr>\n",
              "    <tr>\n",
              "      <th>6</th>\n",
              "      <td>38</td>\n",
              "      <td>Private</td>\n",
              "      <td>10th</td>\n",
              "      <td>6</td>\n",
              "      <td>Separated</td>\n",
              "      <td>Adm-clerical</td>\n",
              "      <td>Unmarried</td>\n",
              "      <td>White</td>\n",
              "      <td>Male</td>\n",
              "      <td>40</td>\n",
              "      <td>United-States</td>\n",
              "      <td>&lt;=50K</td>\n",
              "    </tr>\n",
              "  </tbody>\n",
              "</table>\n",
              "</div>"
            ],
            "text/plain": [
              "   age workclass     education  ...  hours.per.week native.country income\n",
              "1   82   Private       HS-grad  ...              18  United-States  <=50K\n",
              "3   54   Private       7th-8th  ...              40  United-States  <=50K\n",
              "4   41   Private  Some-college  ...              40  United-States  <=50K\n",
              "5   34   Private       HS-grad  ...              45  United-States  <=50K\n",
              "6   38   Private          10th  ...              40  United-States  <=50K\n",
              "\n",
              "[5 rows x 12 columns]"
            ]
          },
          "metadata": {
            "tags": []
          },
          "execution_count": 7
        }
      ]
    },
    {
      "cell_type": "code",
      "metadata": {
        "id": "jVql64sjeRSm"
      },
      "source": [
        "# Since we are looking if people are making more than 50K, we have to drop part-time workers. They will not compete with full time workers.\n",
        "filt = df['hours.per.week'] < 30\n",
        "df.drop(df[filt].index, inplace=True)"
      ],
      "execution_count": null,
      "outputs": []
    },
    {
      "cell_type": "code",
      "metadata": {
        "id": "-41kJ-fEetFD",
        "colab": {
          "base_uri": "https://localhost:8080/",
          "height": 206
        },
        "outputId": "daa9863d-921f-49f6-d916-e6942d69e69e"
      },
      "source": [
        "# We drop education column too, since we have number of education years\n",
        "df.drop('education', axis='columns', inplace=True)\n",
        "df.head()"
      ],
      "execution_count": null,
      "outputs": [
        {
          "output_type": "execute_result",
          "data": {
            "text/html": [
              "<div>\n",
              "<style scoped>\n",
              "    .dataframe tbody tr th:only-of-type {\n",
              "        vertical-align: middle;\n",
              "    }\n",
              "\n",
              "    .dataframe tbody tr th {\n",
              "        vertical-align: top;\n",
              "    }\n",
              "\n",
              "    .dataframe thead th {\n",
              "        text-align: right;\n",
              "    }\n",
              "</style>\n",
              "<table border=\"1\" class=\"dataframe\">\n",
              "  <thead>\n",
              "    <tr style=\"text-align: right;\">\n",
              "      <th></th>\n",
              "      <th>age</th>\n",
              "      <th>workclass</th>\n",
              "      <th>education.num</th>\n",
              "      <th>marital.status</th>\n",
              "      <th>occupation</th>\n",
              "      <th>relationship</th>\n",
              "      <th>race</th>\n",
              "      <th>sex</th>\n",
              "      <th>hours.per.week</th>\n",
              "      <th>native.country</th>\n",
              "      <th>income</th>\n",
              "    </tr>\n",
              "  </thead>\n",
              "  <tbody>\n",
              "    <tr>\n",
              "      <th>3</th>\n",
              "      <td>54</td>\n",
              "      <td>Private</td>\n",
              "      <td>4</td>\n",
              "      <td>Divorced</td>\n",
              "      <td>Machine-op-inspct</td>\n",
              "      <td>Unmarried</td>\n",
              "      <td>White</td>\n",
              "      <td>Female</td>\n",
              "      <td>40</td>\n",
              "      <td>United-States</td>\n",
              "      <td>&lt;=50K</td>\n",
              "    </tr>\n",
              "    <tr>\n",
              "      <th>4</th>\n",
              "      <td>41</td>\n",
              "      <td>Private</td>\n",
              "      <td>10</td>\n",
              "      <td>Separated</td>\n",
              "      <td>Prof-specialty</td>\n",
              "      <td>Own-child</td>\n",
              "      <td>White</td>\n",
              "      <td>Female</td>\n",
              "      <td>40</td>\n",
              "      <td>United-States</td>\n",
              "      <td>&lt;=50K</td>\n",
              "    </tr>\n",
              "    <tr>\n",
              "      <th>5</th>\n",
              "      <td>34</td>\n",
              "      <td>Private</td>\n",
              "      <td>9</td>\n",
              "      <td>Divorced</td>\n",
              "      <td>Other-service</td>\n",
              "      <td>Unmarried</td>\n",
              "      <td>White</td>\n",
              "      <td>Female</td>\n",
              "      <td>45</td>\n",
              "      <td>United-States</td>\n",
              "      <td>&lt;=50K</td>\n",
              "    </tr>\n",
              "    <tr>\n",
              "      <th>6</th>\n",
              "      <td>38</td>\n",
              "      <td>Private</td>\n",
              "      <td>6</td>\n",
              "      <td>Separated</td>\n",
              "      <td>Adm-clerical</td>\n",
              "      <td>Unmarried</td>\n",
              "      <td>White</td>\n",
              "      <td>Male</td>\n",
              "      <td>40</td>\n",
              "      <td>United-States</td>\n",
              "      <td>&lt;=50K</td>\n",
              "    </tr>\n",
              "    <tr>\n",
              "      <th>8</th>\n",
              "      <td>68</td>\n",
              "      <td>Federal-gov</td>\n",
              "      <td>9</td>\n",
              "      <td>Divorced</td>\n",
              "      <td>Prof-specialty</td>\n",
              "      <td>Not-in-family</td>\n",
              "      <td>White</td>\n",
              "      <td>Female</td>\n",
              "      <td>40</td>\n",
              "      <td>United-States</td>\n",
              "      <td>&lt;=50K</td>\n",
              "    </tr>\n",
              "  </tbody>\n",
              "</table>\n",
              "</div>"
            ],
            "text/plain": [
              "   age    workclass  education.num  ... hours.per.week native.country income\n",
              "3   54      Private              4  ...             40  United-States  <=50K\n",
              "4   41      Private             10  ...             40  United-States  <=50K\n",
              "5   34      Private              9  ...             45  United-States  <=50K\n",
              "6   38      Private              6  ...             40  United-States  <=50K\n",
              "8   68  Federal-gov              9  ...             40  United-States  <=50K\n",
              "\n",
              "[5 rows x 11 columns]"
            ]
          },
          "metadata": {
            "tags": []
          },
          "execution_count": 9
        }
      ]
    },
    {
      "cell_type": "code",
      "metadata": {
        "id": "4p2u5QP6QaXm"
      },
      "source": [
        "# We rename some of the columns for convenience\n",
        "df.rename(columns={'native.country':'country','marital.status':'m_status', 'education.num':'edu', 'hours.per.week':'hours_per_week'}, inplace=True)"
      ],
      "execution_count": null,
      "outputs": []
    },
    {
      "cell_type": "code",
      "metadata": {
        "id": "Y7lxbeDwjjPp",
        "colab": {
          "base_uri": "https://localhost:8080/"
        },
        "outputId": "b82bfc3b-9f81-4a89-934b-2b8a330fa75d"
      },
      "source": [
        "df[df.country != 'United-States'].value_counts()"
      ],
      "execution_count": null,
      "outputs": [
        {
          "output_type": "execute_result",
          "data": {
            "text/plain": [
              "age  workclass  edu  m_status            occupation         relationship    race                sex     hours_per_week  country    income\n",
              "25   Private    2    Never-married       Priv-house-serv    Not-in-family   White               Female  40              Guatemala  <=50K     3\n",
              "21   Private    1    Never-married       Farming-fishing    Not-in-family   White               Male    50              Mexico     <=50K     2\n",
              "35   Private    16   Married-civ-spouse  Prof-specialty     Husband         Asian-Pac-Islander  Male    40              Taiwan     >50K      2\n",
              "28   Private    6    Never-married       Handlers-cleaners  Other-relative  White               Male    40              Mexico     <=50K     2\n",
              "25   Private    5    Married-civ-spouse  Machine-op-inspct  Husband         White               Male    40              Mexico     <=50K     2\n",
              "                                                                                                                                            ..\n",
              "43   Private    3    Married-civ-spouse  Machine-op-inspct  Wife            Asian-Pac-Islander  Female  40              Vietnam    >50K      1\n",
              "                                                            Husband         Other               Male    40              Mexico     <=50K     1\n",
              "                     Divorced            Priv-house-serv    Unmarried       White               Female  40              Mexico     <=50K     1\n",
              "     Local-gov  13   Divorced            Exec-managerial    Unmarried       White               Male    42              Germany    <=50K     1\n",
              "17   Private    3    Never-married       Other-service      Other-relative  White               Male    48              Mexico     <=50K     1\n",
              "Length: 2379, dtype: int64"
            ]
          },
          "metadata": {
            "tags": []
          },
          "execution_count": 11
        }
      ]
    },
    {
      "cell_type": "code",
      "metadata": {
        "id": "EdNm1y4GmGMN",
        "colab": {
          "base_uri": "https://localhost:8080/",
          "height": 206
        },
        "outputId": "fe489d61-d0ae-49ab-d88c-832a1e4c9685"
      },
      "source": [
        "# Let's assign non-US natives to another variable\n",
        "non_US = df[df.country != 'United-States']\n",
        "non_US.head()"
      ],
      "execution_count": null,
      "outputs": [
        {
          "output_type": "execute_result",
          "data": {
            "text/html": [
              "<div>\n",
              "<style scoped>\n",
              "    .dataframe tbody tr th:only-of-type {\n",
              "        vertical-align: middle;\n",
              "    }\n",
              "\n",
              "    .dataframe tbody tr th {\n",
              "        vertical-align: top;\n",
              "    }\n",
              "\n",
              "    .dataframe thead th {\n",
              "        text-align: right;\n",
              "    }\n",
              "</style>\n",
              "<table border=\"1\" class=\"dataframe\">\n",
              "  <thead>\n",
              "    <tr style=\"text-align: right;\">\n",
              "      <th></th>\n",
              "      <th>age</th>\n",
              "      <th>workclass</th>\n",
              "      <th>edu</th>\n",
              "      <th>m_status</th>\n",
              "      <th>occupation</th>\n",
              "      <th>relationship</th>\n",
              "      <th>race</th>\n",
              "      <th>sex</th>\n",
              "      <th>hours_per_week</th>\n",
              "      <th>country</th>\n",
              "      <th>income</th>\n",
              "    </tr>\n",
              "  </thead>\n",
              "  <tbody>\n",
              "    <tr>\n",
              "      <th>26</th>\n",
              "      <td>33</td>\n",
              "      <td>Private</td>\n",
              "      <td>2</td>\n",
              "      <td>Married-civ-spouse</td>\n",
              "      <td>Craft-repair</td>\n",
              "      <td>Not-in-family</td>\n",
              "      <td>White</td>\n",
              "      <td>Male</td>\n",
              "      <td>32</td>\n",
              "      <td>Mexico</td>\n",
              "      <td>&lt;=50K</td>\n",
              "    </tr>\n",
              "    <tr>\n",
              "      <th>27</th>\n",
              "      <td>49</td>\n",
              "      <td>Private</td>\n",
              "      <td>3</td>\n",
              "      <td>Married-civ-spouse</td>\n",
              "      <td>Other-service</td>\n",
              "      <td>Husband</td>\n",
              "      <td>White</td>\n",
              "      <td>Male</td>\n",
              "      <td>40</td>\n",
              "      <td>Greece</td>\n",
              "      <td>&lt;=50K</td>\n",
              "    </tr>\n",
              "    <tr>\n",
              "      <th>47</th>\n",
              "      <td>73</td>\n",
              "      <td>Self-emp-not-inc</td>\n",
              "      <td>9</td>\n",
              "      <td>Married-civ-spouse</td>\n",
              "      <td>Farming-fishing</td>\n",
              "      <td>Husband</td>\n",
              "      <td>Asian-Pac-Islander</td>\n",
              "      <td>Male</td>\n",
              "      <td>40</td>\n",
              "      <td>Vietnam</td>\n",
              "      <td>&lt;=50K</td>\n",
              "    </tr>\n",
              "    <tr>\n",
              "      <th>63</th>\n",
              "      <td>51</td>\n",
              "      <td>Self-emp-not-inc</td>\n",
              "      <td>13</td>\n",
              "      <td>Married-civ-spouse</td>\n",
              "      <td>Sales</td>\n",
              "      <td>Husband</td>\n",
              "      <td>Asian-Pac-Islander</td>\n",
              "      <td>Male</td>\n",
              "      <td>40</td>\n",
              "      <td>China</td>\n",
              "      <td>&gt;50K</td>\n",
              "    </tr>\n",
              "    <tr>\n",
              "      <th>67</th>\n",
              "      <td>55</td>\n",
              "      <td>Self-emp-inc</td>\n",
              "      <td>15</td>\n",
              "      <td>Married-civ-spouse</td>\n",
              "      <td>Prof-specialty</td>\n",
              "      <td>Husband</td>\n",
              "      <td>White</td>\n",
              "      <td>Male</td>\n",
              "      <td>35</td>\n",
              "      <td>Greece</td>\n",
              "      <td>&gt;50K</td>\n",
              "    </tr>\n",
              "  </tbody>\n",
              "</table>\n",
              "</div>"
            ],
            "text/plain": [
              "    age         workclass  edu  ... hours_per_week  country income\n",
              "26   33           Private    2  ...             32   Mexico  <=50K\n",
              "27   49           Private    3  ...             40   Greece  <=50K\n",
              "47   73  Self-emp-not-inc    9  ...             40  Vietnam  <=50K\n",
              "63   51  Self-emp-not-inc   13  ...             40    China   >50K\n",
              "67   55      Self-emp-inc   15  ...             35   Greece   >50K\n",
              "\n",
              "[5 rows x 11 columns]"
            ]
          },
          "metadata": {
            "tags": []
          },
          "execution_count": 12
        }
      ]
    },
    {
      "cell_type": "code",
      "metadata": {
        "colab": {
          "base_uri": "https://localhost:8080/"
        },
        "id": "5Y8Y9BX-UkeU",
        "outputId": "9590e438-2afc-4999-e3a6-c9402b6e1cd0"
      },
      "source": [
        "print(df['income'].value_counts(normalize=True))\n",
        "print(non_US['income'].value_counts(normalize=True))"
      ],
      "execution_count": null,
      "outputs": [
        {
          "output_type": "stream",
          "text": [
            "<=50K    0.727735\n",
            ">50K     0.272265\n",
            "Name: income, dtype: float64\n",
            "<=50K    0.792815\n",
            ">50K     0.207185\n",
            "Name: income, dtype: float64\n"
          ],
          "name": "stdout"
        }
      ]
    },
    {
      "cell_type": "markdown",
      "metadata": {
        "id": "yMiPiWV38Sdh"
      },
      "source": [
        "It looks like non-US originated people have a slightly lower percentage of above-50K income.\n",
        "Let's do some visualization to get a better understanding of our data. Let's start with histograms."
      ]
    },
    {
      "cell_type": "code",
      "metadata": {
        "colab": {
          "base_uri": "https://localhost:8080/",
          "height": 297
        },
        "id": "zeNmmhUpyFxm",
        "outputId": "aae5c1f3-1365-45c0-d4ab-94093f5a73b9"
      },
      "source": [
        "plt.subplot(2,2,1)\n",
        "plt.hist(df['edu'])\n",
        "plt.xlabel('Number of years')\n",
        "plt.title('Education')\n",
        "plt.subplot(2,2,2)\n",
        "plt.hist(df['hours_per_week'])\n",
        "plt.xlabel('Hours')\n",
        "plt.title('Hours per Week')\n",
        "plt.subplot(2,2,3)\n",
        "plt.hist(df['income'], bins=2)\n",
        "plt.xlabel('Income')\n",
        "plt.title('Income, more or less than 50k')\n",
        "plt.subplot(2,2,4)\n",
        "plt.hist(df['race'])\n",
        "plt.xlabel('Race')\n",
        "plt.title('Races')\n",
        "plt.xticks(rotation=60)\n",
        "plt.tight_layout()"
      ],
      "execution_count": null,
      "outputs": [
        {
          "output_type": "display_data",
          "data": {
            "image/png": "[encoded data removed]",
            "text/plain": [
              "<Figure size 432x288 with 4 Axes>"
            ]
          },
          "metadata": {
            "tags": [],
            "needs_background": "light"
          }
        }
      ]
    },
    {
      "cell_type": "markdown",
      "metadata": {
        "id": "qAxK99oa-v44"
      },
      "source": [
        "We have a better idea about our data now. The majority of people make less than 50K and most of the races is white."
      ]
    },
    {
      "cell_type": "code",
      "metadata": {
        "colab": {
          "base_uri": "https://localhost:8080/"
        },
        "id": "-eK9D-QI_Gqc",
        "outputId": "5d28ef3d-8146-493b-fa28-a142a02b28c3"
      },
      "source": [
        "v1 = df['race'].value_counts()\n",
        "v2 = df['income'].value_counts()\n",
        "print(v1, v2)\n",
        "#plt.plot(v1, v2)"
      ],
      "execution_count": null,
      "outputs": [
        {
          "output_type": "stream",
          "text": [
            "White                 23012\n",
            "Black                  2488\n",
            "Asian-Pac-Islander      800\n",
            "Amer-Indian-Eskimo      256\n",
            "Other                   212\n",
            "Name: race, dtype: int64 <=50K    19480\n",
            ">50K      7288\n",
            "Name: income, dtype: int64\n"
          ],
          "name": "stdout"
        }
      ]
    },
    {
      "cell_type": "code",
      "metadata": {
        "id": "1unAtF8IeVM8"
      },
      "source": [
        "from sklearn.preprocessing import LabelEncoder"
      ],
      "execution_count": null,
      "outputs": []
    },
    {
      "cell_type": "code",
      "metadata": {
        "id": "pgJnEa_MejaQ"
      },
      "source": [
        "# We want to convert strings into numerical codes. We use LabelEncoder of sklearn for this.\n",
        "le_workclass = LabelEncoder()\n",
        "le_marital_status = LabelEncoder()\n",
        "le_occupation = LabelEncoder()\n",
        "le_relationship = LabelEncoder()\n",
        "le_race = LabelEncoder()\n",
        "le_sex = LabelEncoder()\n",
        "le_income = LabelEncoder()"
      ],
      "execution_count": null,
      "outputs": []
    },
    {
      "cell_type": "code",
      "metadata": {
        "id": "B1rw4b_qm6eF"
      },
      "source": [
        "df['workclass_n'] = le_workclass.fit_transform(df['workclass'])\n",
        "df['m_status_n'] = le_marital_status.fit_transform(df['m_status'])\n",
        "df['occupation_n'] = le_occupation.fit_transform(df['occupation'])\n",
        "df['relationship_n'] = le_relationship.fit_transform(df['relationship'])\n",
        "df['race_n'] = le_race.fit_transform(df['race'])\n",
        "df['sex_n'] = le_sex.fit_transform(df['sex'])\n",
        "df['income_n'] = le_income.fit_transform(df['income'])"
      ],
      "execution_count": null,
      "outputs": []
    },
    {
      "cell_type": "code",
      "metadata": {
        "id": "wufZC9iGntm9",
        "colab": {
          "base_uri": "https://localhost:8080/",
          "height": 206
        },
        "outputId": "ee9c1b8f-526d-4ef7-d853-777580c9060a"
      },
      "source": [
        "# After making the transformation we get rid of old data\n",
        "df.drop(['workclass', 'm_status', 'occupation', 'relationship', 'race', 'sex', 'income'], axis='columns', inplace=True)\n",
        "df.head()"
      ],
      "execution_count": null,
      "outputs": [
        {
          "output_type": "execute_result",
          "data": {
            "text/html": [
              "<div>\n",
              "<style scoped>\n",
              "    .dataframe tbody tr th:only-of-type {\n",
              "        vertical-align: middle;\n",
              "    }\n",
              "\n",
              "    .dataframe tbody tr th {\n",
              "        vertical-align: top;\n",
              "    }\n",
              "\n",
              "    .dataframe thead th {\n",
              "        text-align: right;\n",
              "    }\n",
              "</style>\n",
              "<table border=\"1\" class=\"dataframe\">\n",
              "  <thead>\n",
              "    <tr style=\"text-align: right;\">\n",
              "      <th></th>\n",
              "      <th>age</th>\n",
              "      <th>edu</th>\n",
              "      <th>hours_per_week</th>\n",
              "      <th>country</th>\n",
              "      <th>workclass_n</th>\n",
              "      <th>m_status_n</th>\n",
              "      <th>occupation_n</th>\n",
              "      <th>relationship_n</th>\n",
              "      <th>race_n</th>\n",
              "      <th>sex_n</th>\n",
              "      <th>income_n</th>\n",
              "    </tr>\n",
              "  </thead>\n",
              "  <tbody>\n",
              "    <tr>\n",
              "      <th>3</th>\n",
              "      <td>54</td>\n",
              "      <td>4</td>\n",
              "      <td>40</td>\n",
              "      <td>United-States</td>\n",
              "      <td>2</td>\n",
              "      <td>0</td>\n",
              "      <td>6</td>\n",
              "      <td>4</td>\n",
              "      <td>4</td>\n",
              "      <td>0</td>\n",
              "      <td>0</td>\n",
              "    </tr>\n",
              "    <tr>\n",
              "      <th>4</th>\n",
              "      <td>41</td>\n",
              "      <td>10</td>\n",
              "      <td>40</td>\n",
              "      <td>United-States</td>\n",
              "      <td>2</td>\n",
              "      <td>5</td>\n",
              "      <td>9</td>\n",
              "      <td>3</td>\n",
              "      <td>4</td>\n",
              "      <td>0</td>\n",
              "      <td>0</td>\n",
              "    </tr>\n",
              "    <tr>\n",
              "      <th>5</th>\n",
              "      <td>34</td>\n",
              "      <td>9</td>\n",
              "      <td>45</td>\n",
              "      <td>United-States</td>\n",
              "      <td>2</td>\n",
              "      <td>0</td>\n",
              "      <td>7</td>\n",
              "      <td>4</td>\n",
              "      <td>4</td>\n",
              "      <td>0</td>\n",
              "      <td>0</td>\n",
              "    </tr>\n",
              "    <tr>\n",
              "      <th>6</th>\n",
              "      <td>38</td>\n",
              "      <td>6</td>\n",
              "      <td>40</td>\n",
              "      <td>United-States</td>\n",
              "      <td>2</td>\n",
              "      <td>5</td>\n",
              "      <td>0</td>\n",
              "      <td>4</td>\n",
              "      <td>4</td>\n",
              "      <td>1</td>\n",
              "      <td>0</td>\n",
              "    </tr>\n",
              "    <tr>\n",
              "      <th>8</th>\n",
              "      <td>68</td>\n",
              "      <td>9</td>\n",
              "      <td>40</td>\n",
              "      <td>United-States</td>\n",
              "      <td>0</td>\n",
              "      <td>0</td>\n",
              "      <td>9</td>\n",
              "      <td>1</td>\n",
              "      <td>4</td>\n",
              "      <td>0</td>\n",
              "      <td>0</td>\n",
              "    </tr>\n",
              "  </tbody>\n",
              "</table>\n",
              "</div>"
            ],
            "text/plain": [
              "   age  edu  hours_per_week  ... race_n  sex_n  income_n\n",
              "3   54    4              40  ...      4      0         0\n",
              "4   41   10              40  ...      4      0         0\n",
              "5   34    9              45  ...      4      0         0\n",
              "6   38    6              40  ...      4      1         0\n",
              "8   68    9              40  ...      4      0         0\n",
              "\n",
              "[5 rows x 11 columns]"
            ]
          },
          "metadata": {
            "tags": []
          },
          "execution_count": 20
        }
      ]
    },
    {
      "cell_type": "code",
      "metadata": {
        "id": "fTlsJRK5oa2p",
        "colab": {
          "base_uri": "https://localhost:8080/",
          "height": 206
        },
        "outputId": "4763ba80-8de7-45c0-92eb-f2ed02c729d0"
      },
      "source": [
        "# We don't need country too, since we only have United States\n",
        "df.drop('country', axis='columns', inplace=True)\n",
        "df.head()"
      ],
      "execution_count": null,
      "outputs": [
        {
          "output_type": "execute_result",
          "data": {
            "text/html": [
              "<div>\n",
              "<style scoped>\n",
              "    .dataframe tbody tr th:only-of-type {\n",
              "        vertical-align: middle;\n",
              "    }\n",
              "\n",
              "    .dataframe tbody tr th {\n",
              "        vertical-align: top;\n",
              "    }\n",
              "\n",
              "    .dataframe thead th {\n",
              "        text-align: right;\n",
              "    }\n",
              "</style>\n",
              "<table border=\"1\" class=\"dataframe\">\n",
              "  <thead>\n",
              "    <tr style=\"text-align: right;\">\n",
              "      <th></th>\n",
              "      <th>age</th>\n",
              "      <th>edu</th>\n",
              "      <th>hours_per_week</th>\n",
              "      <th>workclass_n</th>\n",
              "      <th>m_status_n</th>\n",
              "      <th>occupation_n</th>\n",
              "      <th>relationship_n</th>\n",
              "      <th>race_n</th>\n",
              "      <th>sex_n</th>\n",
              "      <th>income_n</th>\n",
              "    </tr>\n",
              "  </thead>\n",
              "  <tbody>\n",
              "    <tr>\n",
              "      <th>3</th>\n",
              "      <td>54</td>\n",
              "      <td>4</td>\n",
              "      <td>40</td>\n",
              "      <td>2</td>\n",
              "      <td>0</td>\n",
              "      <td>6</td>\n",
              "      <td>4</td>\n",
              "      <td>4</td>\n",
              "      <td>0</td>\n",
              "      <td>0</td>\n",
              "    </tr>\n",
              "    <tr>\n",
              "      <th>4</th>\n",
              "      <td>41</td>\n",
              "      <td>10</td>\n",
              "      <td>40</td>\n",
              "      <td>2</td>\n",
              "      <td>5</td>\n",
              "      <td>9</td>\n",
              "      <td>3</td>\n",
              "      <td>4</td>\n",
              "      <td>0</td>\n",
              "      <td>0</td>\n",
              "    </tr>\n",
              "    <tr>\n",
              "      <th>5</th>\n",
              "      <td>34</td>\n",
              "      <td>9</td>\n",
              "      <td>45</td>\n",
              "      <td>2</td>\n",
              "      <td>0</td>\n",
              "      <td>7</td>\n",
              "      <td>4</td>\n",
              "      <td>4</td>\n",
              "      <td>0</td>\n",
              "      <td>0</td>\n",
              "    </tr>\n",
              "    <tr>\n",
              "      <th>6</th>\n",
              "      <td>38</td>\n",
              "      <td>6</td>\n",
              "      <td>40</td>\n",
              "      <td>2</td>\n",
              "      <td>5</td>\n",
              "      <td>0</td>\n",
              "      <td>4</td>\n",
              "      <td>4</td>\n",
              "      <td>1</td>\n",
              "      <td>0</td>\n",
              "    </tr>\n",
              "    <tr>\n",
              "      <th>8</th>\n",
              "      <td>68</td>\n",
              "      <td>9</td>\n",
              "      <td>40</td>\n",
              "      <td>0</td>\n",
              "      <td>0</td>\n",
              "      <td>9</td>\n",
              "      <td>1</td>\n",
              "      <td>4</td>\n",
              "      <td>0</td>\n",
              "      <td>0</td>\n",
              "    </tr>\n",
              "  </tbody>\n",
              "</table>\n",
              "</div>"
            ],
            "text/plain": [
              "   age  edu  hours_per_week  ...  race_n  sex_n  income_n\n",
              "3   54    4              40  ...       4      0         0\n",
              "4   41   10              40  ...       4      0         0\n",
              "5   34    9              45  ...       4      0         0\n",
              "6   38    6              40  ...       4      1         0\n",
              "8   68    9              40  ...       4      0         0\n",
              "\n",
              "[5 rows x 10 columns]"
            ]
          },
          "metadata": {
            "tags": []
          },
          "execution_count": 21
        }
      ]
    },
    {
      "cell_type": "code",
      "metadata": {
        "id": "k21FY3J4epCe",
        "colab": {
          "base_uri": "https://localhost:8080/"
        },
        "outputId": "83ab3d69-e28b-49c9-faf5-ae1df5dac3c0"
      },
      "source": [
        "df.workclass_n.unique()\n"
      ],
      "execution_count": null,
      "outputs": [
        {
          "output_type": "execute_result",
          "data": {
            "text/plain": [
              "array([2, 0, 4, 3, 5, 1, 6])"
            ]
          },
          "metadata": {
            "tags": []
          },
          "execution_count": 22
        }
      ]
    },
    {
      "cell_type": "code",
      "metadata": {
        "id": "h5SkRShffCG0",
        "colab": {
          "base_uri": "https://localhost:8080/"
        },
        "outputId": "ff3524b2-a3b6-4ada-9060-a8187b413af6"
      },
      "source": [
        "# We transformed the variables but I don't know what these numbers correspond to. Therefore, I do an inverse transformation to get the mapping.\n",
        "print(le_workclass.inverse_transform([0, 1, 2, 3, 4, 5, 6]))\n",
        "print(le_marital_status.inverse_transform([0, 1, 2, 3, 4, 5, 6]))\n",
        "print(le_occupation.inverse_transform([0, 1, 2, 3, 4, 5, 6, 7, 8, 9, 10, 11, 12, 13]))\n",
        "print(le_relationship.inverse_transform([0, 1, 2, 3, 4, 5]))\n",
        "print(le_race.inverse_transform([0, 1, 2, 3, 4]))\n",
        "print(le_sex.inverse_transform([0, 1]))\n",
        "print(le_income.inverse_transform([0, 1]))"
      ],
      "execution_count": null,
      "outputs": [
        {
          "output_type": "stream",
          "text": [
            "['Federal-gov' 'Local-gov' 'Private' 'Self-emp-inc' 'Self-emp-not-inc'\n",
            " 'State-gov' 'Without-pay']\n",
            "['Divorced' 'Married-AF-spouse' 'Married-civ-spouse'\n",
            " 'Married-spouse-absent' 'Never-married' 'Separated' 'Widowed']\n",
            "['Adm-clerical' 'Armed-Forces' 'Craft-repair' 'Exec-managerial'\n",
            " 'Farming-fishing' 'Handlers-cleaners' 'Machine-op-inspct' 'Other-service'\n",
            " 'Priv-house-serv' 'Prof-specialty' 'Protective-serv' 'Sales'\n",
            " 'Tech-support' 'Transport-moving']\n",
            "['Husband' 'Not-in-family' 'Other-relative' 'Own-child' 'Unmarried' 'Wife']\n",
            "['Amer-Indian-Eskimo' 'Asian-Pac-Islander' 'Black' 'Other' 'White']\n",
            "['Female' 'Male']\n",
            "['<=50K' '>50K']\n"
          ],
          "name": "stdout"
        }
      ]
    },
    {
      "cell_type": "markdown",
      "metadata": {
        "id": "ocjcL49TTOxV"
      },
      "source": [
        "# Decision Tree\n",
        "We will keep the original dataframe df and we will choose different target variables in different decision tree models.\n",
        "The inputs will change accordingly. Depending on the target and input variables, there will be 4 models, numbered from 1 to 4.\n",
        "Target variables are income, edu, relationship_n, m_status_n."
      ]
    },
    {
      "cell_type": "code",
      "metadata": {
        "id": "fcOBUXkkmxD5"
      },
      "source": [
        "# Model 1\n",
        "target_inc = df['income_n']\n",
        "inputs_inc = df.drop('income_n', axis='columns')"
      ],
      "execution_count": null,
      "outputs": []
    },
    {
      "cell_type": "code",
      "metadata": {
        "id": "DQniX94EUtI8"
      },
      "source": [
        "# Model 2\n",
        "target_edu = df['edu']\n",
        "inputs_edu = df.drop('edu', axis='columns')\n",
        "# Model 3\n",
        "target_rel = df['relationship_n']\n",
        "inputs_rel = df.drop('relationship_n', axis='columns')\n",
        "# Model 4\n",
        "target_mar = df['m_status_n']\n",
        "inputs_mar = df.drop('m_status_n', axis='columns')"
      ],
      "execution_count": null,
      "outputs": []
    },
    {
      "cell_type": "markdown",
      "metadata": {
        "id": "eiVxOvlxaoDZ"
      },
      "source": [
        "This is what we are going to do:\n",
        "We have 10 variables. We will single out one of the four target variables, income-education-relationship-marital_status, one by one. Then we will try to explain the target variable with the remaining 9 inputs.\n",
        "In the second part, (which is not done yet) we will exclude three variables, income-education-martial_status, from the dataset and try to explain them with the remaining 7 variables, one by one."
      ]
    },
    {
      "cell_type": "code",
      "metadata": {
        "id": "UOvyynBHnJq8"
      },
      "source": [
        "from sklearn import tree"
      ],
      "execution_count": null,
      "outputs": []
    },
    {
      "cell_type": "code",
      "metadata": {
        "id": "ERaV6NVsmY-6",
        "colab": {
          "base_uri": "https://localhost:8080/"
        },
        "outputId": "25129475-9749-4115-b728-d30d55432779"
      },
      "source": [
        "# We split the data now\n",
        "from sklearn.model_selection import train_test_split\n",
        "X_train_inc, X_test_inc, y_train_inc, y_test_inc = train_test_split(inputs_inc, target_inc, test_size=0.2, random_state=19)\n",
        "print( X_train_inc.shape, y_train_inc.shape)\n",
        "print( X_test_inc.shape, y_test_inc.shape)"
      ],
      "execution_count": null,
      "outputs": [
        {
          "output_type": "stream",
          "text": [
            "(21414, 9) (21414,)\n",
            "(5354, 9) (5354,)\n"
          ],
          "name": "stdout"
        }
      ]
    },
    {
      "cell_type": "code",
      "metadata": {
        "id": "mLxdIyjSbS4X"
      },
      "source": [
        "# We split the data every target variable. We use a random state to make sure that we have the same random states to compare our results.\n",
        "X_train_edu, X_test_edu, y_train_edu, y_test_edu = train_test_split(inputs_edu, target_edu, test_size=0.2, random_state=19)\n",
        "X_train_rel, X_test_rel, y_train_rel, y_test_rel = train_test_split(inputs_rel, target_rel, test_size=0.2, random_state=19)\n",
        "X_train_mar, X_test_mar, y_train_mar, y_test_mar = train_test_split(inputs_mar, target_mar, test_size=0.2, random_state=19)"
      ],
      "execution_count": null,
      "outputs": []
    },
    {
      "cell_type": "code",
      "metadata": {
        "id": "uSBh0HdP1iEm"
      },
      "source": [
        "model_inc = tree.DecisionTreeClassifier()\n",
        "model_edu = tree.DecisionTreeClassifier()\n",
        "model_rel = tree.DecisionTreeClassifier()\n",
        "model_mar = tree.DecisionTreeClassifier()"
      ],
      "execution_count": null,
      "outputs": []
    },
    {
      "cell_type": "code",
      "metadata": {
        "id": "r8hWzTs41t44",
        "colab": {
          "base_uri": "https://localhost:8080/"
        },
        "outputId": "337fa262-d13e-4815-c8f1-5015df62163d"
      },
      "source": [
        "model_inc.fit(X_train_inc, y_train_inc)"
      ],
      "execution_count": null,
      "outputs": [
        {
          "output_type": "execute_result",
          "data": {
            "text/plain": [
              "DecisionTreeClassifier(ccp_alpha=0.0, class_weight=None, criterion='gini',\n",
              "                       max_depth=None, max_features=None, max_leaf_nodes=None,\n",
              "                       min_impurity_decrease=0.0, min_impurity_split=None,\n",
              "                       min_samples_leaf=1, min_samples_split=2,\n",
              "                       min_weight_fraction_leaf=0.0, presort='deprecated',\n",
              "                       random_state=None, splitter='best')"
            ]
          },
          "metadata": {
            "tags": []
          },
          "execution_count": 31
        }
      ]
    },
    {
      "cell_type": "code",
      "metadata": {
        "id": "rTvjNojhb8SZ",
        "colab": {
          "base_uri": "https://localhost:8080/"
        },
        "outputId": "0af5d53a-e4a4-4210-90e8-e6b6e9ec0768"
      },
      "source": [
        "model_edu.fit(X_train_edu, y_train_edu)\n",
        "model_rel.fit(X_train_rel, y_train_rel)\n",
        "model_mar.fit(X_train_mar, y_train_mar)"
      ],
      "execution_count": null,
      "outputs": [
        {
          "output_type": "execute_result",
          "data": {
            "text/plain": [
              "DecisionTreeClassifier(ccp_alpha=0.0, class_weight=None, criterion='gini',\n",
              "                       max_depth=None, max_features=None, max_leaf_nodes=None,\n",
              "                       min_impurity_decrease=0.0, min_impurity_split=None,\n",
              "                       min_samples_leaf=1, min_samples_split=2,\n",
              "                       min_weight_fraction_leaf=0.0, presort='deprecated',\n",
              "                       random_state=None, splitter='best')"
            ]
          },
          "metadata": {
            "tags": []
          },
          "execution_count": 32
        }
      ]
    },
    {
      "cell_type": "code",
      "metadata": {
        "id": "wE0Dc93e18Ls",
        "colab": {
          "base_uri": "https://localhost:8080/"
        },
        "outputId": "f317781e-00b7-4ae5-b567-2e015afc165a"
      },
      "source": [
        "# The model is not perfect and even the training set is not 100% accurate\n",
        "model_inc.score(X_train_inc, y_train_inc)"
      ],
      "execution_count": null,
      "outputs": [
        {
          "output_type": "execute_result",
          "data": {
            "text/plain": [
              "0.9640889137947137"
            ]
          },
          "metadata": {
            "tags": []
          },
          "execution_count": 33
        }
      ]
    },
    {
      "cell_type": "code",
      "metadata": {
        "id": "bKxBOaTXcPJL",
        "colab": {
          "base_uri": "https://localhost:8080/"
        },
        "outputId": "e05774f0-86d5-4672-9296-b36481d42778"
      },
      "source": [
        "print(f'Predicting income, score:         {model_inc.score(X_test_inc, y_test_inc)}')\n",
        "print(f'Predicting education, score:      {model_edu.score(X_test_edu, y_test_edu)}')\n",
        "print(f'Predicting relationship, score:   {model_rel.score(X_test_rel, y_test_rel)}')\n",
        "print(f'Predicting marital status, score: {model_mar.score(X_test_mar, y_test_mar)}')"
      ],
      "execution_count": null,
      "outputs": [
        {
          "output_type": "stream",
          "text": [
            "Predicting income, score:         0.7603660814344415\n",
            "Predicting education, score:      0.3018304071722077\n",
            "Predicting relationship, score:   0.7267463578632798\n",
            "Predicting marital status, score: 0.7911841613746732\n"
          ],
          "name": "stdout"
        }
      ]
    },
    {
      "cell_type": "markdown",
      "metadata": {
        "id": "S92tih_cETot"
      },
      "source": [
        "## Conclusion of Decision Tree Model\n",
        "Looking at the scores, our data is worst at predicting education level. All the other scores are very close to each other. Therefore, it would not be appropriate to rank them. But contrary to my initial guess of education being a dependent variable, our test results do not support this view. Education is more like a determinant of other outcomes, rather than being an outcome of other variables.\n"
      ]
    },
    {
      "cell_type": "markdown",
      "metadata": {
        "id": "svPmDPO9VHvF"
      },
      "source": [
        "# Random Forest Model"
      ]
    },
    {
      "cell_type": "code",
      "metadata": {
        "id": "U1j0G7M-VGhh"
      },
      "source": [
        "from sklearn.ensemble import RandomForestClassifier\n",
        "model_r_inc = RandomForestClassifier()\n",
        "model_r_edu = RandomForestClassifier()\n",
        "model_r_rel = RandomForestClassifier()\n",
        "model_r_mar = RandomForestClassifier()"
      ],
      "execution_count": null,
      "outputs": []
    },
    {
      "cell_type": "code",
      "metadata": {
        "colab": {
          "base_uri": "https://localhost:8080/"
        },
        "id": "xTVZWpAzYTjd",
        "outputId": "c17433ab-eca7-4d0f-b277-30e6c0b01973"
      },
      "source": [
        "model_r_inc.fit(X_train_inc, y_train_inc)\n",
        "model_r_edu.fit(X_train_edu, y_train_edu)\n",
        "model_r_rel.fit(X_train_rel, y_train_rel)\n",
        "model_r_mar.fit(X_train_mar, y_train_mar)"
      ],
      "execution_count": null,
      "outputs": [
        {
          "output_type": "execute_result",
          "data": {
            "text/plain": [
              "RandomForestClassifier(bootstrap=True, ccp_alpha=0.0, class_weight=None,\n",
              "                       criterion='gini', max_depth=None, max_features='auto',\n",
              "                       max_leaf_nodes=None, max_samples=None,\n",
              "                       min_impurity_decrease=0.0, min_impurity_split=None,\n",
              "                       min_samples_leaf=1, min_samples_split=2,\n",
              "                       min_weight_fraction_leaf=0.0, n_estimators=100,\n",
              "                       n_jobs=None, oob_score=False, random_state=None,\n",
              "                       verbose=0, warm_start=False)"
            ]
          },
          "metadata": {
            "tags": []
          },
          "execution_count": 41
        }
      ]
    },
    {
      "cell_type": "code",
      "metadata": {
        "colab": {
          "base_uri": "https://localhost:8080/"
        },
        "id": "-iItqsjTZAa0",
        "outputId": "25fcccbe-5b59-4bea-ab34-d6a6b52e985d"
      },
      "source": [
        "print(model_r_inc.score(X_test_inc, y_test_inc))\n",
        "print(model_r_edu.score(X_test_edu, y_test_edu))\n",
        "print(model_r_rel.score(X_test_rel, y_test_rel))\n",
        "print(model_r_mar.score(X_test_mar, y_test_mar))"
      ],
      "execution_count": null,
      "outputs": [
        {
          "output_type": "stream",
          "text": [
            "0.8018304071722077\n",
            "0.3365707881957415\n",
            "0.7639148300336197\n",
            "0.8294732909973851\n"
          ],
          "name": "stdout"
        }
      ]
    },
    {
      "cell_type": "code",
      "metadata": {
        "id": "FLfO0c9pa6-z"
      },
      "source": [
        "y_predicted_inc = model_r_inc.predict(X_test_inc)\n",
        "y_predicted_edu = model_r_edu.predict(X_test_edu)\n",
        "y_predicted_rel = model_r_rel.predict(X_test_rel)\n",
        "y_predicted_mar = model_r_mar.predict(X_test_mar)"
      ],
      "execution_count": null,
      "outputs": []
    },
    {
      "cell_type": "code",
      "metadata": {
        "id": "kduhDivScKUa"
      },
      "source": [
        "from sklearn.metrics import confusion_matrix\n",
        "cm_inc = confusion_matrix(y_test_inc, y_predicted_inc)\n",
        "cm_edu = confusion_matrix(y_test_edu, y_predicted_edu)\n",
        "cm_rel = confusion_matrix(y_test_rel, y_predicted_rel)\n",
        "cm_mar = confusion_matrix(y_test_mar, y_predicted_mar)"
      ],
      "execution_count": null,
      "outputs": []
    },
    {
      "cell_type": "markdown",
      "metadata": {
        "id": "c-jx2MPcKF_1"
      },
      "source": [
        "# Conclusion, Random Forest\n",
        "Random forest scores are higher than decision tree scores for each one of them. But predicting education level is still the least successful model. One interesting finding, for decision tree and random forest models, the data is better at modeling marital status than income."
      ]
    },
    {
      "cell_type": "code",
      "metadata": {
        "colab": {
          "base_uri": "https://localhost:8080/"
        },
        "id": "AuRQFTBKctle",
        "outputId": "9b2a1173-5bae-4a76-b43c-bab043031c82"
      },
      "source": [
        "cm_inc"
      ],
      "execution_count": null,
      "outputs": [
        {
          "output_type": "execute_result",
          "data": {
            "text/plain": [
              "array([[3391,  467],\n",
              "       [ 594,  902]])"
            ]
          },
          "metadata": {
            "tags": []
          },
          "execution_count": 45
        }
      ]
    },
    {
      "cell_type": "code",
      "metadata": {
        "colab": {
          "base_uri": "https://localhost:8080/",
          "height": 459
        },
        "id": "4S1-0jmzbs1-",
        "outputId": "dd78e8f3-fcd8-4dce-b724-cfa747728178"
      },
      "source": [
        "%matplotlib inline\n",
        "import matplotlib.pyplot as plt\n",
        "import seaborn as sn\n",
        "plt.figure(figsize=(10,7))\n",
        "sn.heatmap(cm_mar, annot=True)\n",
        "plt.xlabel('Predicted')\n",
        "plt.ylabel('Truth')"
      ],
      "execution_count": null,
      "outputs": [
        {
          "output_type": "execute_result",
          "data": {
            "text/plain": [
              "Text(69.0, 0.5, 'Truth')"
            ]
          },
          "metadata": {
            "tags": []
          },
          "execution_count": 46
        },
        {
          "output_type": "display_data",
          "data": {
            "image/png": "[encoded data removed]",
            "text/plain": [
              "<Figure size 720x504 with 2 Axes>"
            ]
          },
          "metadata": {
            "tags": [],
            "needs_background": "light"
          }
        }
      ]
    },
    {
      "cell_type": "markdown",
      "metadata": {
        "id": "5wf2dP8-SBU2"
      },
      "source": [
        "# Xgboost"
      ]
    },
    {
      "cell_type": "code",
      "metadata": {
        "id": "1Rmgsl-pn3V0"
      },
      "source": [
        "import xgboost as xgb"
      ],
      "execution_count": null,
      "outputs": []
    },
    {
      "cell_type": "code",
      "metadata": {
        "id": "qhofiqq4oHtq"
      },
      "source": [
        "model_xgb_inc = xgb.XGBClassifier()\n",
        "model_xgb_edu = xgb.XGBClassifier()\n",
        "model_xgb_rel = xgb.XGBClassifier()\n",
        "model_xgb_mar = xgb.XGBClassifier()"
      ],
      "execution_count": null,
      "outputs": []
    },
    {
      "cell_type": "code",
      "metadata": {
        "colab": {
          "base_uri": "https://localhost:8080/"
        },
        "id": "ypGOXFoSdn_z",
        "outputId": "36a305a3-eca1-4615-c4b2-9ebc324080ec"
      },
      "source": [
        "model_xgb_inc.fit(X_train_inc, y_train_inc)\n",
        "model_xgb_edu.fit(X_train_edu, y_train_edu)\n",
        "model_xgb_rel.fit(X_train_rel, y_train_rel)\n",
        "model_xgb_mar.fit(X_train_mar, y_train_mar)"
      ],
      "execution_count": null,
      "outputs": [
        {
          "output_type": "execute_result",
          "data": {
            "text/plain": [
              "XGBClassifier(base_score=0.5, booster='gbtree', colsample_bylevel=1,\n",
              "              colsample_bynode=1, colsample_bytree=1, gamma=0,\n",
              "              learning_rate=0.1, max_delta_step=0, max_depth=3,\n",
              "              min_child_weight=1, missing=None, n_estimators=100, n_jobs=1,\n",
              "              nthread=None, objective='multi:softprob', random_state=0,\n",
              "              reg_alpha=0, reg_lambda=1, scale_pos_weight=1, seed=None,\n",
              "              silent=None, subsample=1, verbosity=1)"
            ]
          },
          "metadata": {
            "tags": []
          },
          "execution_count": 49
        }
      ]
    },
    {
      "cell_type": "code",
      "metadata": {
        "colab": {
          "base_uri": "https://localhost:8080/"
        },
        "id": "iQVLpTveeATP",
        "outputId": "c4804e71-fe9a-47d9-e495-b1182335cbc8"
      },
      "source": [
        "print(model_xgb_inc.score(X_test_inc, y_test_inc))\n",
        "print(model_xgb_edu.score(X_test_edu, y_test_edu))\n",
        "print(model_xgb_rel.score(X_test_rel, y_test_rel))\n",
        "print(model_xgb_mar.score(X_test_mar, y_test_mar))"
      ],
      "execution_count": null,
      "outputs": [
        {
          "output_type": "stream",
          "text": [
            "0.8246171087037729\n",
            "0.4206200971236459\n",
            "0.7898767276802391\n",
            "0.846469929025028\n"
          ],
          "name": "stdout"
        }
      ]
    },
    {
      "cell_type": "markdown",
      "metadata": {
        "id": "w-sPMAxneZGO"
      },
      "source": [
        "## Conclusion\n",
        "All scores improved upon random forest."
      ]
    },
    {
      "cell_type": "markdown",
      "metadata": {
        "id": "MQ20CnzjFXdF"
      },
      "source": [
        "# Extra\n",
        "## The lines after this are extra. I tried other things in my models."
      ]
    },
    {
      "cell_type": "code",
      "metadata": {
        "id": "AnecBsCROQoM",
        "colab": {
          "base_uri": "https://localhost:8080/",
          "height": 235
        },
        "outputId": "713c3497-7fe9-41f9-8198-f505fa2257d5"
      },
      "source": [
        "import pydotplus # To create our Decision Tree Graph\n",
        "from IPython.display import Image  # To Display a image of our graph\n",
        "\n",
        "# Export/Print a decision tree in DOT format.\n",
        "print(tree.export_graphviz(model_inc, None))\n",
        "\n",
        "#Create Dot Data\n",
        "dot_data = tree.export_graphviz(model_inc, out_file=None, feature_names=list(X_train_inc.columns.values), \n",
        "                                class_names=['Something', 'Something else'], rounded=True, filled=True) #Gini decides which attribute/feature should be placed at the root node, which features will act as internal nodes or leaf nodes#Create Graph from DOT data\n",
        "graph = pydotplus.graph_from_dot_data(dot_data)\n",
        "\n",
        "# Show graph\n",
        "Image(graph.create_png())"
      ],
      "execution_count": null,
      "outputs": [
        {
          "output_type": "error",
          "ename": "NameError",
          "evalue": "ignored",
          "traceback": [
            "\u001b[0;31m---------------------------------------------------------------------------\u001b[0m",
            "\u001b[0;31mNameError\u001b[0m                                 Traceback (most recent call last)",
            "\u001b[0;32m<ipython-input-1-ccd36e361074>\u001b[0m in \u001b[0;36m<module>\u001b[0;34m()\u001b[0m\n\u001b[1;32m      3\u001b[0m \u001b[0;34m\u001b[0m\u001b[0m\n\u001b[1;32m      4\u001b[0m \u001b[0;31m# Export/Print a decision tree in DOT format.\u001b[0m\u001b[0;34m\u001b[0m\u001b[0;34m\u001b[0m\u001b[0;34m\u001b[0m\u001b[0m\n\u001b[0;32m----> 5\u001b[0;31m \u001b[0mprint\u001b[0m\u001b[0;34m(\u001b[0m\u001b[0mtree\u001b[0m\u001b[0;34m.\u001b[0m\u001b[0mexport_graphviz\u001b[0m\u001b[0;34m(\u001b[0m\u001b[0mmodel_inc\u001b[0m\u001b[0;34m,\u001b[0m \u001b[0;32mNone\u001b[0m\u001b[0;34m)\u001b[0m\u001b[0;34m)\u001b[0m\u001b[0;34m\u001b[0m\u001b[0;34m\u001b[0m\u001b[0m\n\u001b[0m\u001b[1;32m      6\u001b[0m \u001b[0;34m\u001b[0m\u001b[0m\n\u001b[1;32m      7\u001b[0m \u001b[0;31m#Create Dot Data\u001b[0m\u001b[0;34m\u001b[0m\u001b[0;34m\u001b[0m\u001b[0;34m\u001b[0m\u001b[0m\n",
            "\u001b[0;31mNameError\u001b[0m: name 'tree' is not defined"
          ]
        }
      ]
    },
    {
      "cell_type": "code",
      "metadata": {
        "id": "UDLoZtpq2lMl"
      },
      "source": [
        "y_pred_inc = model_inc.predict(X_test_inc)"
      ],
      "execution_count": null,
      "outputs": []
    },
    {
      "cell_type": "code",
      "metadata": {
        "id": "nTsytFcJclq8"
      },
      "source": [
        "y_pred_edu = model_edu.predict(X_test_edu)\n",
        "y_pred_rel = model_rel.predict(X_test_rel)\n",
        "y_pred_mar = model_mar.predict(X_test_mar)"
      ],
      "execution_count": null,
      "outputs": []
    },
    {
      "cell_type": "code",
      "metadata": {
        "id": "xnmiSdaCUPLs",
        "colab": {
          "base_uri": "https://localhost:8080/",
          "height": 424
        },
        "outputId": "7ac26c4e-9e1b-409e-d307-7c4183cfb838"
      },
      "source": [
        "compare = pd.DataFrame({'Actual':y_test_rel, 'Predicted':y_pred_rel})\n",
        "compare"
      ],
      "execution_count": null,
      "outputs": [
        {
          "output_type": "execute_result",
          "data": {
            "text/html": [
              "<div>\n",
              "<style scoped>\n",
              "    .dataframe tbody tr th:only-of-type {\n",
              "        vertical-align: middle;\n",
              "    }\n",
              "\n",
              "    .dataframe tbody tr th {\n",
              "        vertical-align: top;\n",
              "    }\n",
              "\n",
              "    .dataframe thead th {\n",
              "        text-align: right;\n",
              "    }\n",
              "</style>\n",
              "<table border=\"1\" class=\"dataframe\">\n",
              "  <thead>\n",
              "    <tr style=\"text-align: right;\">\n",
              "      <th></th>\n",
              "      <th>Actual</th>\n",
              "      <th>Predicted</th>\n",
              "    </tr>\n",
              "  </thead>\n",
              "  <tbody>\n",
              "    <tr>\n",
              "      <th>28121</th>\n",
              "      <td>0</td>\n",
              "      <td>0</td>\n",
              "    </tr>\n",
              "    <tr>\n",
              "      <th>29591</th>\n",
              "      <td>0</td>\n",
              "      <td>0</td>\n",
              "    </tr>\n",
              "    <tr>\n",
              "      <th>13815</th>\n",
              "      <td>1</td>\n",
              "      <td>1</td>\n",
              "    </tr>\n",
              "    <tr>\n",
              "      <th>6588</th>\n",
              "      <td>4</td>\n",
              "      <td>1</td>\n",
              "    </tr>\n",
              "    <tr>\n",
              "      <th>7120</th>\n",
              "      <td>4</td>\n",
              "      <td>1</td>\n",
              "    </tr>\n",
              "    <tr>\n",
              "      <th>...</th>\n",
              "      <td>...</td>\n",
              "      <td>...</td>\n",
              "    </tr>\n",
              "    <tr>\n",
              "      <th>9590</th>\n",
              "      <td>0</td>\n",
              "      <td>0</td>\n",
              "    </tr>\n",
              "    <tr>\n",
              "      <th>14816</th>\n",
              "      <td>1</td>\n",
              "      <td>1</td>\n",
              "    </tr>\n",
              "    <tr>\n",
              "      <th>457</th>\n",
              "      <td>0</td>\n",
              "      <td>0</td>\n",
              "    </tr>\n",
              "    <tr>\n",
              "      <th>29225</th>\n",
              "      <td>1</td>\n",
              "      <td>3</td>\n",
              "    </tr>\n",
              "    <tr>\n",
              "      <th>29710</th>\n",
              "      <td>1</td>\n",
              "      <td>1</td>\n",
              "    </tr>\n",
              "  </tbody>\n",
              "</table>\n",
              "<p>4875 rows × 2 columns</p>\n",
              "</div>"
            ],
            "text/plain": [
              "       Actual  Predicted\n",
              "28121       0          0\n",
              "29591       0          0\n",
              "13815       1          1\n",
              "6588        4          1\n",
              "7120        4          1\n",
              "...       ...        ...\n",
              "9590        0          0\n",
              "14816       1          1\n",
              "457         0          0\n",
              "29225       1          3\n",
              "29710       1          1\n",
              "\n",
              "[4875 rows x 2 columns]"
            ]
          },
          "metadata": {
            "tags": []
          },
          "execution_count": 76
        }
      ]
    },
    {
      "cell_type": "markdown",
      "metadata": {
        "id": "l5HYarGmaBI2"
      },
      "source": [
        "Model 1 result. Predicting income level.\n",
        "Success rate is about 75%"
      ]
    },
    {
      "cell_type": "code",
      "metadata": {
        "id": "VaKo8A8IX1BF",
        "colab": {
          "base_uri": "https://localhost:8080/",
          "height": 34
        },
        "outputId": "02a056e6-912a-4e03-8ccb-0885196b0283"
      },
      "source": [
        "#from sklearn import metrics\n",
        "#print('Mean Absolute Error:', metrics.mean_absolute_error(y_test_inc, y_pred_inc))\n",
        "# Our model is predicting three fourth of the data correctly"
      ],
      "execution_count": null,
      "outputs": [
        {
          "output_type": "stream",
          "text": [
            "Mean Absolute Error: 0.25374358974358974\n"
          ],
          "name": "stdout"
        }
      ]
    }
  ]
}